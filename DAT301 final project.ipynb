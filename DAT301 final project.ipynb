{
 "cells": [
  {
   "cell_type": "markdown",
   "metadata": {},
   "source": [
    "Michael Buyer\n",
    "# Analyzing NBA (National Basketball Association) seasons and team performances since 1949"
   ]
  },
  {
   "cell_type": "code",
   "execution_count": 1,
   "metadata": {},
   "outputs": [],
   "source": [
    "# cell is for installing packages"
   ]
  },
  {
   "cell_type": "code",
   "execution_count": 2,
   "metadata": {},
   "outputs": [],
   "source": [
    "import requests\n",
    "from bs4 import BeautifulSoup\n",
    "import numpy as np\n",
    "import pandas as pd\n",
    "import matplotlib.pyplot as plt\n",
    "import seaborn as sns\n",
    "from os import path\n",
    "import scipy.stats as stats"
   ]
  },
  {
   "cell_type": "markdown",
   "metadata": {},
   "source": [
    "The data comes from a wikipedia page of NBA seasons and contains end results of each season. The purpose of this analysis is to primarily look at Top Seeds' performances throughout the years. Thus this will identify how often a top seed becomes a regional champion, and if a particular season's format affected the top seed's record. With the collected data, the only possible factors in teams' performances can be number of teams and games in the season. \n",
    "\n",
    "Before looking at season records, there is a summary of how frequently teams become top seed, then there is a summary of statistics of the numerical variables. \n",
    "\n",
    "Then a one way F-test is done for two populations of season records depending on if the top seed becomes a regional champion or not. After seeing the T-test's result, the following graphs visualize the data crunched during the one way F-test's computation.\n",
    "\n",
    "Given more data than what is collected, I would identify more reasons for why the top seed may not become champion."
   ]
  },
  {
   "cell_type": "markdown",
   "metadata": {},
   "source": []
  },
  {
   "cell_type": "markdown",
   "metadata": {},
   "source": [
    "## Webscraping"
   ]
  },
  {
   "cell_type": "code",
   "execution_count": 3,
   "metadata": {},
   "outputs": [],
   "source": [
    "page = requests.get(\"https://en.wikipedia.org/wiki/List_of_National_Basketball_Association_seasons\")\n",
    "soup = BeautifulSoup(page.content, 'html.parser')\n",
    "\n",
    "#tables = soup.find_all('table')\n",
    "#for table in tables:\n",
    "    #print(table.prettify())\n",
    "    \n",
    "# the comments above helped find the table of interest, which had the class \"wikitable sortable\"\n",
    "\n",
    "resultsTable = soup.find(\"table\", {\"class\": \"wikitable sortable\"})\n",
    "rows = list(resultsTable.find_all(\"tr\")) # tr for table row\n",
    "rows = rows[4:len(rows)-1] # the first few rows are titles, headers, or are missing data, last row missing data\n",
    "\n",
    "# Preparing the columns the of the future dataframe\n",
    "TopSeeds = []; Records = []; Years = []; EastChamps = []; WestChamps = []; Champs = []; NoOfTeams = [];\n",
    "NoOfGames = []; Notes = [];\n",
    "\n",
    "# Extracting the data from the table\n",
    "# A few redundant columns are rejected\n",
    "for row in rows:\n",
    "    colData = list(row.find_all(\"td\")) # td for table data (cell)\n",
    "    # now just appending\n",
    "    TopSeeds.append(colData[1].get_text())\n",
    "    Records.append(colData[2].get_text())\n",
    "    Years.append(colData[3].get_text())\n",
    "    EastChamps.append(colData[4].get_text())\n",
    "    WestChamps.append(colData[5].get_text())\n",
    "    Champs.append(colData[7].get_text())\n",
    "    NoOfTeams.append(colData[8].get_text())\n",
    "    NoOfGames.append(colData[9].get_text())\n",
    "    Notes.append(colData[10].get_text())\n",
    "    \n",
    "\n",
    "    \n",
    "    \n",
    "\n"
   ]
  },
  {
   "cell_type": "markdown",
   "metadata": {},
   "source": [
    "## Dataframe Creation"
   ]
  },
  {
   "cell_type": "code",
   "execution_count": 4,
   "metadata": {},
   "outputs": [
    {
     "name": "stdout",
     "output_type": "stream",
     "text": [
      "               Top Seed    Season Record    Year       Eastern Champion  \\\n",
      "0    Rochester Royals\\n   45–15 (.750)\\n  1949\\n  Washington Capitols\\n   \n",
      "1  Syracuse Nationals\\n   51–13 (.797)\\n  1950\\n   Syracuse Nationals\\n   \n",
      "2  Minneapolis Lakers\\n   44–24 (.647)\\n  1951\\n      New York Knicks\\n   \n",
      "3    Rochester Royals\\n   41–25 (.621)\\n  1952\\n      New York Knicks\\n   \n",
      "4  Minneapolis Lakers\\n   48–22 (.686)\\n  1953\\n      New York Knicks\\n   \n",
      "\n",
      "        Western Champion                 Champion Number of Teams  \\\n",
      "0   Minneapolis Lakers\\n     Minneapolis Lakers\\n            12\\n   \n",
      "1  Anderson Packers[i]\\n  Minneapolis Lakers[j]\\n            17\\n   \n",
      "2     Rochester Royals\\n       Rochester Royals\\n            11\\n   \n",
      "3   Minneapolis Lakers\\n     Minneapolis Lakers\\n            10\\n   \n",
      "4   Minneapolis Lakers\\n     Minneapolis Lakers\\n            10\\n   \n",
      "\n",
      "  Number of Games                                              Notes  \n",
      "0            60\\n                               4 NBL teams joined\\n  \n",
      "1         62–68\\n  NBL merged with BAA and was renamed NBA;2 team...  \n",
      "2         66–69\\n  6 teams folded;1 team folded during the season...  \n",
      "3            66\\n                                                 \\n  \n",
      "4         69–71\\n                                                 \\n  \n"
     ]
    }
   ],
   "source": [
    "\n",
    "NBA_data = { \"Top Seed\": TopSeeds, \"Season Record\": Records, \"Year\": Years, \"Eastern Champion\": EastChamps,\n",
    "           \"Western Champion\": WestChamps, \"Champion\": Champs, \"Number of Teams\": NoOfTeams,\n",
    "           \"Number of Games\": NoOfGames, \"Notes\": Notes}\n",
    "NBA_data = pd.DataFrame(NBA_data)\n",
    "print(NBA_data.head()) # can identify what to clean (and there are many things)    \n",
    "    "
   ]
  },
  {
   "cell_type": "markdown",
   "metadata": {},
   "source": [
    "Cleaning the data was more intensive than expected. When printing the data, first thing to notice is all the '\\n' characters. Those are removed immediately. Then sometimes there are brackets as a link to a references in the reference list. Then numeric data is sometimes two numbers with a dash or hyphen in between. The imperfect chosen method was to average the two numbers for number of games. \n",
    "\n",
    "As far as the following code, a theme is constantly splitting strings or filtering certain characters."
   ]
  },
  {
   "cell_type": "markdown",
   "metadata": {},
   "source": [
    "## Cleaning"
   ]
  },
  {
   "cell_type": "code",
   "execution_count": 5,
   "metadata": {},
   "outputs": [],
   "source": [
    "NBA_data = NBA_data.replace('\\\\n',' ', regex=True) # remove all those escape characters\n",
    "\n",
    "# removing brackets in columns containing team names\n",
    "# also remove whitespaces in beginning and end\n",
    "# some data has [i] for example - don't want those\n",
    "length = len(NBA_data[\"Top Seed\"])\n",
    "for i in range(0,length):\n",
    "    words = NBA_data.loc[i,\"Top Seed\"].split(\"[\") \n",
    "    NBA_data.loc[i,\"Top Seed\"] = words[0].strip()\n",
    "    words = NBA_data.loc[i,\"Eastern Champion\"].split(\"[\")\n",
    "    NBA_data.loc[i,\"Eastern Champion\"] = words[0].strip()\n",
    "    words = NBA_data.loc[i,\"Western Champion\"].split(\"[\")\n",
    "    NBA_data.loc[i,\"Western Champion\"] = words[0].strip()\n",
    "    words = NBA_data.loc[i,\"Champion\"].split(\"[\")\n",
    "    NBA_data.loc[i,\"Champion\"] = words[0].strip()\n",
    "    \n",
    "# Number of games is sometimes given as a range, it needs to be just one number\n",
    "# Also make number of teams a number, not a string\n",
    "gamesPlayed = []; import re\n",
    "for i in range(0,length):\n",
    "    NBA_data.loc[i, \"Number of Teams\"] = float(NBA_data.loc[i, \"Number of Teams\"])\n",
    "    if len(str(NBA_data.loc[i, \"Number of Games\"])) > 3:\n",
    "        nums = re.sub(\"[^0-9]\", \" \", NBA_data.loc[i,\"Number of Games\"]) #filtering non-numeric characters\n",
    "        nums = nums.split()\n",
    "        gamesPlayed.append(float((int(nums[0]) + int(nums[1]))/2)) # average of two numbers basically rounded down\n",
    "    else:\n",
    "        gamesPlayed.append(float(NBA_data.loc[i, \"Number of Games\"]))\n",
    "            \n",
    "NBA_data[\"Number of Games\"] = gamesPlayed\n",
    "\n"
   ]
  },
  {
   "cell_type": "markdown",
   "metadata": {},
   "source": [
    "To deal with issues in the season record column, a new Win Proportion column is created, extracting the numbers given in parentheses. Importantly a new column with binary values is created for future analysis."
   ]
  },
  {
   "cell_type": "markdown",
   "metadata": {},
   "source": [
    "## Adding/Removing columns"
   ]
  },
  {
   "cell_type": "code",
   "execution_count": 6,
   "metadata": {},
   "outputs": [],
   "source": [
    "# Make season record into 'win-loss' and another column be win proportion\n",
    "props = [];\n",
    "for i in range(0,length):\n",
    "    seasonRecord = NBA_data.loc[i, \"Season Record\"]\n",
    "    records = seasonRecord.split()\n",
    "    NBA_data.loc[i, \"Season Record\"] = records[0]; # keeping win-loss\n",
    "    prop = re.sub(\"[^0-9]\", \"\", records[1]) # remove parentheses\n",
    "    prop = int(prop)/10**len(str(prop)) # get number between 0 and 1\n",
    "    props.append(prop)\n",
    "NBA_data[\"Win Proportion\"] = props\n",
    "\n",
    "# naming the index\n",
    "NBA_data.index.name = \"Years after 1949\"\n",
    "# thus I will remove the redundant Year column later\n",
    "\n",
    "# Finally, I think seeing if a Top Seed became a Champion is useful for future analysis\n",
    "\n",
    "# Sorry Fort Wayne Pistons but i don't think there should be two \"top seeds\" (see the wiki table)\n",
    "NBA_data.loc[6, \"Top Seed\"] = \"Syracuse Nationals\"\n",
    "isChampion = [];\n",
    "for i in range(0, length):\n",
    "    seed = NBA_data.loc[i, \"Top Seed\"];\n",
    "    if seed in NBA_data.loc[i, \"Eastern Champion\"] or \\\n",
    "    seed in NBA_data.loc[i, \"Western Champion\"]:\n",
    "        isChampion.append(1)\n",
    "    else:\n",
    "        isChampion.append(0)\n",
    "        \n",
    "NBA_data[\"Top Seed is a Champion\"] = isChampion\n"
   ]
  },
  {
   "cell_type": "markdown",
   "metadata": {},
   "source": [
    "## Reordering columns"
   ]
  },
  {
   "cell_type": "code",
   "execution_count": 7,
   "metadata": {},
   "outputs": [
    {
     "name": "stdout",
     "output_type": "stream",
     "text": [
      "['Top Seed', 'Season Record', 'Year', 'Eastern Champion', 'Western Champion', 'Champion', 'Number of Teams', 'Number of Games', 'Notes', 'Win Proportion', 'Top Seed is a Champion']\n",
      "['Top Seed', 'Season Record', 'Win Proportion', 'Eastern Champion', 'Western Champion', 'Champion', 'Top Seed is a Champion', 'Number of Teams', 'Number of Games', 'Notes']\n"
     ]
    }
   ],
   "source": [
    "# also removes a column or two in the process\n",
    "cols = NBA_data.columns.tolist()\n",
    "print(cols)\n",
    "cols.remove(\"Year\")\n",
    "newCols = cols[0:2]; newCols.append(cols[8]); newCols = newCols + cols[2:5];\n",
    "newCols.append(cols[9]); newCols = newCols + cols[5:8]\n",
    "print(newCols)\n",
    "NBA_data = NBA_data[newCols]\n"
   ]
  },
  {
   "cell_type": "code",
   "execution_count": 8,
   "metadata": {},
   "outputs": [
    {
     "name": "stdout",
     "output_type": "stream",
     "text": [
      "                            Top Seed Season Record  Win Proportion  \\\n",
      "Years after 1949                                                     \n",
      "0                   Rochester Royals         45–15           0.750   \n",
      "1                 Syracuse Nationals         51–13           0.797   \n",
      "2                 Minneapolis Lakers         44–24           0.647   \n",
      "3                   Rochester Royals         41–25           0.621   \n",
      "4                 Minneapolis Lakers         48–22           0.686   \n",
      "\n",
      "                     Eastern Champion    Western Champion            Champion  \\\n",
      "Years after 1949                                                                \n",
      "0                 Washington Capitols  Minneapolis Lakers  Minneapolis Lakers   \n",
      "1                  Syracuse Nationals    Anderson Packers  Minneapolis Lakers   \n",
      "2                     New York Knicks    Rochester Royals    Rochester Royals   \n",
      "3                     New York Knicks  Minneapolis Lakers  Minneapolis Lakers   \n",
      "4                     New York Knicks  Minneapolis Lakers  Minneapolis Lakers   \n",
      "\n",
      "                  Top Seed is a Champion Number of Teams  Number of Games  \\\n",
      "Years after 1949                                                            \n",
      "0                                      0              12             60.0   \n",
      "1                                      1              17             65.0   \n",
      "2                                      0              11             67.5   \n",
      "3                                      0              10             66.0   \n",
      "4                                      1              10             70.0   \n",
      "\n",
      "                                                              Notes  \n",
      "Years after 1949                                                     \n",
      "0                                               4 NBL teams joined   \n",
      "1                 NBL merged with BAA and was renamed NBA;2 team...  \n",
      "2                 6 teams folded;1 team folded during the season...  \n",
      "3                                                                    \n",
      "4                                                                    \n"
     ]
    }
   ],
   "source": [
    "print(NBA_data.head())"
   ]
  },
  {
   "cell_type": "markdown",
   "metadata": {},
   "source": [
    "## Summarize what teams were top seed most frequently"
   ]
  },
  {
   "cell_type": "code",
   "execution_count": 9,
   "metadata": {},
   "outputs": [
    {
     "name": "stdout",
     "output_type": "stream",
     "text": [
      "{'Minneapolis Lakers': 3, 'Boston Celtics': 18, 'Philadelphia 76ers': 4, 'Milwaukee Bucks': 4, 'Los Angeles Lakers': 6, 'Golden State Warriors': 4, 'Chicago Bulls': 5, 'San Antonio Spurs': 5, 'others': 23}\n"
     ]
    },
    {
     "data": {
      "text/plain": [
       "Text(0.5, 1.0, '8 NBA teams that were top seed most frequently')"
      ]
     },
     "execution_count": 9,
     "metadata": {},
     "output_type": "execute_result"
    },
    {
     "data": {
      "image/png": "[encoded data removed]",
      "text/plain": [
       "<Figure size 432x288 with 1 Axes>"
      ]
     },
     "metadata": {},
     "output_type": "display_data"
    }
   ],
   "source": [
    "# function counting frequencies (helps for pie, frequency chart)\n",
    "def CountFrequency(my_list):\n",
    "    freq = {}\n",
    "    for items in my_list:\n",
    "        freq[items] = my_list.count(items)\n",
    "    return freq\n",
    " \n",
    "teams = list(NBA_data[\"Top Seed\"])\n",
    "teamFreq = CountFrequency(teams); others = 0; # put all the teams with < 3 times being top seed into \"others\"\n",
    "for key in teamFreq:\n",
    "    if teamFreq[key] < 3:\n",
    "        others += teamFreq[key];\n",
    "        \n",
    "        \n",
    "newTeamFreq = {k: v for k, v in teamFreq.items() if v > 2}\n",
    "newTeamFreq[\"others\"] = others\n",
    "print(newTeamFreq)\n",
    "        \n",
    "# now make the pie chart\n",
    "plt.pie(newTeamFreq.values(), labels = newTeamFreq.keys(), autopct = '%1.1f%%', shadow = True)\n",
    "plt.title(\"8 NBA teams that were top seed most frequently\")"
   ]
  },
  {
   "cell_type": "markdown",
   "metadata": {},
   "source": [
    "## Identifying Outlier Seasons"
   ]
  },
  {
   "cell_type": "markdown",
   "metadata": {},
   "source": [
    "Logically, one would think that there is a proportional relationship between the number of teams and number of games of played. So that theory is tested with a scatter plot, which will also identify possible outliers."
   ]
  },
  {
   "cell_type": "code",
   "execution_count": 10,
   "metadata": {},
   "outputs": [
    {
     "data": {
      "text/plain": [
       "Text(0.5, 1.0, 'Number of Games Played versus Teams Playing')"
      ]
     },
     "execution_count": 10,
     "metadata": {},
     "output_type": "execute_result"
    },
    {
     "data": {
      "image/png": "[encoded data removed]",
      "text/plain": [
       "<Figure size 432x288 with 1 Axes>"
      ]
     },
     "metadata": {
      "needs_background": "light"
     },
     "output_type": "display_data"
    }
   ],
   "source": [
    "\n",
    "x = NBA_data[\"Number of Teams\"].astype(str).astype(float); \n",
    "y = NBA_data[\"Number of Games\"].astype(str).astype(float);\n",
    "plt.scatter(x, y, alpha = 0.3, color = \"red\")\n",
    "m, b = np.polyfit(x, y, 1)\n",
    "\n",
    "plt.plot(x, m*x + b, color = \"blue\")\n",
    "# note: this regression line is not robust to outliers yet it represents the data well\n",
    "plt.xlabel(\"Number of Teams\"); plt.ylabel(\"Number of Games\");\n",
    "plt.title(\"Number of Games Played versus Teams Playing\")"
   ]
  },
  {
   "cell_type": "code",
   "execution_count": 11,
   "metadata": {},
   "outputs": [
    {
     "name": "stdout",
     "output_type": "stream",
     "text": [
      "Years after 1949\n",
      "50    Season delayed and shortened due to a lockout \n",
      "Name: Notes, dtype: object\n"
     ]
    }
   ],
   "source": [
    "# See the notes of the one season with less than 60 games\n",
    "print(NBA_data['Notes'][NBA_data['Number of Games'] < 55])\n",
    "# the season's year = 1949 + 50 = 1999"
   ]
  },
  {
   "cell_type": "code",
   "execution_count": 12,
   "metadata": {},
   "outputs": [
    {
     "name": "stdout",
     "output_type": "stream",
     "text": [
      "Years after 1949\n",
      "0                                   4 NBL teams joined \n",
      "1     NBL merged with BAA and was renamed NBA;2 team...\n",
      "2     6 teams folded;1 team folded during the season...\n",
      "3                                                      \n",
      "50       Season delayed and shortened due to a lockout \n",
      "63       Season delayed and shortened due to a lockout \n",
      "71    Season suspended from March 11 to July 29, 202...\n",
      "Name: Notes, dtype: object\n"
     ]
    }
   ],
   "source": [
    "# Other notes for a season having less than 70 games\n",
    "print(NBA_data['Notes'][NBA_data['Number of Games'] < 70])\n",
    "# lockouts, then most recent season(s) suspended due to covid for example"
   ]
  },
  {
   "cell_type": "markdown",
   "metadata": {},
   "source": [
    "## Descriptive Statistics"
   ]
  },
  {
   "cell_type": "code",
   "execution_count": 13,
   "metadata": {},
   "outputs": [
    {
     "data": {
      "text/html": [
       "<div>\n",
       "<style scoped>\n",
       "    .dataframe tbody tr th:only-of-type {\n",
       "        vertical-align: middle;\n",
       "    }\n",
       "\n",
       "    .dataframe tbody tr th {\n",
       "        vertical-align: top;\n",
       "    }\n",
       "\n",
       "    .dataframe thead th {\n",
       "        text-align: right;\n",
       "    }\n",
       "</style>\n",
       "<table border=\"1\" class=\"dataframe\">\n",
       "  <thead>\n",
       "    <tr style=\"text-align: right;\">\n",
       "      <th></th>\n",
       "      <th>Win Proportion</th>\n",
       "      <th>Number of Games</th>\n",
       "      <th>Top Seed is a Champion</th>\n",
       "    </tr>\n",
       "  </thead>\n",
       "  <tbody>\n",
       "    <tr>\n",
       "      <th>count</th>\n",
       "      <td>72.000000</td>\n",
       "      <td>72.000000</td>\n",
       "      <td>72.000000</td>\n",
       "    </tr>\n",
       "    <tr>\n",
       "      <th>mean</th>\n",
       "      <td>0.752111</td>\n",
       "      <td>78.895833</td>\n",
       "      <td>0.583333</td>\n",
       "    </tr>\n",
       "    <tr>\n",
       "      <th>std</th>\n",
       "      <td>0.060634</td>\n",
       "      <td>6.299417</td>\n",
       "      <td>0.496466</td>\n",
       "    </tr>\n",
       "    <tr>\n",
       "      <th>min</th>\n",
       "      <td>0.597000</td>\n",
       "      <td>50.000000</td>\n",
       "      <td>0.000000</td>\n",
       "    </tr>\n",
       "    <tr>\n",
       "      <th>25%</th>\n",
       "      <td>0.724250</td>\n",
       "      <td>80.000000</td>\n",
       "      <td>0.000000</td>\n",
       "    </tr>\n",
       "    <tr>\n",
       "      <th>50%</th>\n",
       "      <td>0.756000</td>\n",
       "      <td>82.000000</td>\n",
       "      <td>1.000000</td>\n",
       "    </tr>\n",
       "    <tr>\n",
       "      <th>75%</th>\n",
       "      <td>0.793000</td>\n",
       "      <td>82.000000</td>\n",
       "      <td>1.000000</td>\n",
       "    </tr>\n",
       "    <tr>\n",
       "      <th>max</th>\n",
       "      <td>0.890000</td>\n",
       "      <td>82.000000</td>\n",
       "      <td>1.000000</td>\n",
       "    </tr>\n",
       "  </tbody>\n",
       "</table>\n",
       "</div>"
      ],
      "text/plain": [
       "       Win Proportion  Number of Games  Top Seed is a Champion\n",
       "count       72.000000        72.000000               72.000000\n",
       "mean         0.752111        78.895833                0.583333\n",
       "std          0.060634         6.299417                0.496466\n",
       "min          0.597000        50.000000                0.000000\n",
       "25%          0.724250        80.000000                0.000000\n",
       "50%          0.756000        82.000000                1.000000\n",
       "75%          0.793000        82.000000                1.000000\n",
       "max          0.890000        82.000000                1.000000"
      ]
     },
     "execution_count": 13,
     "metadata": {},
     "output_type": "execute_result"
    }
   ],
   "source": [
    "NBA_data_numeric = NBA_data[[\"Win Proportion\",\"Number of Teams\",\"Number of Games\",\"Top Seed is a Champion\"]]\n",
    "\n",
    "# not grouped by if top seed became a champion\n",
    "NBA_data_numeric.describe()\n"
   ]
  },
  {
   "cell_type": "code",
   "execution_count": 14,
   "metadata": {},
   "outputs": [
    {
     "data": {
      "text/html": [
       "<div>\n",
       "<style scoped>\n",
       "    .dataframe tbody tr th:only-of-type {\n",
       "        vertical-align: middle;\n",
       "    }\n",
       "\n",
       "    .dataframe tbody tr th {\n",
       "        vertical-align: top;\n",
       "    }\n",
       "\n",
       "    .dataframe thead tr th {\n",
       "        text-align: left;\n",
       "    }\n",
       "\n",
       "    .dataframe thead tr:last-of-type th {\n",
       "        text-align: right;\n",
       "    }\n",
       "</style>\n",
       "<table border=\"1\" class=\"dataframe\">\n",
       "  <thead>\n",
       "    <tr>\n",
       "      <th></th>\n",
       "      <th colspan=\"8\" halign=\"left\">Win Proportion</th>\n",
       "      <th colspan=\"8\" halign=\"left\">Number of Games</th>\n",
       "    </tr>\n",
       "    <tr>\n",
       "      <th></th>\n",
       "      <th>count</th>\n",
       "      <th>mean</th>\n",
       "      <th>std</th>\n",
       "      <th>min</th>\n",
       "      <th>25%</th>\n",
       "      <th>50%</th>\n",
       "      <th>75%</th>\n",
       "      <th>max</th>\n",
       "      <th>count</th>\n",
       "      <th>mean</th>\n",
       "      <th>std</th>\n",
       "      <th>min</th>\n",
       "      <th>25%</th>\n",
       "      <th>50%</th>\n",
       "      <th>75%</th>\n",
       "      <th>max</th>\n",
       "    </tr>\n",
       "    <tr>\n",
       "      <th>Top Seed is a Champion</th>\n",
       "      <th></th>\n",
       "      <th></th>\n",
       "      <th></th>\n",
       "      <th></th>\n",
       "      <th></th>\n",
       "      <th></th>\n",
       "      <th></th>\n",
       "      <th></th>\n",
       "      <th></th>\n",
       "      <th></th>\n",
       "      <th></th>\n",
       "      <th></th>\n",
       "      <th></th>\n",
       "      <th></th>\n",
       "      <th></th>\n",
       "      <th></th>\n",
       "    </tr>\n",
       "  </thead>\n",
       "  <tbody>\n",
       "    <tr>\n",
       "      <th>0</th>\n",
       "      <td>30.0</td>\n",
       "      <td>0.74220</td>\n",
       "      <td>0.047993</td>\n",
       "      <td>0.621</td>\n",
       "      <td>0.72300</td>\n",
       "      <td>0.753</td>\n",
       "      <td>0.768</td>\n",
       "      <td>0.829</td>\n",
       "      <td>30.0</td>\n",
       "      <td>79.216667</td>\n",
       "      <td>6.288582</td>\n",
       "      <td>60.0</td>\n",
       "      <td>82.00</td>\n",
       "      <td>82.0</td>\n",
       "      <td>82.0</td>\n",
       "      <td>82.0</td>\n",
       "    </tr>\n",
       "    <tr>\n",
       "      <th>1</th>\n",
       "      <td>42.0</td>\n",
       "      <td>0.75919</td>\n",
       "      <td>0.067928</td>\n",
       "      <td>0.597</td>\n",
       "      <td>0.72675</td>\n",
       "      <td>0.756</td>\n",
       "      <td>0.805</td>\n",
       "      <td>0.890</td>\n",
       "      <td>42.0</td>\n",
       "      <td>78.666667</td>\n",
       "      <td>6.373216</td>\n",
       "      <td>50.0</td>\n",
       "      <td>79.25</td>\n",
       "      <td>82.0</td>\n",
       "      <td>82.0</td>\n",
       "      <td>82.0</td>\n",
       "    </tr>\n",
       "  </tbody>\n",
       "</table>\n",
       "</div>"
      ],
      "text/plain": [
       "                       Win Proportion                                     \\\n",
       "                                count     mean       std    min      25%   \n",
       "Top Seed is a Champion                                                     \n",
       "0                                30.0  0.74220  0.047993  0.621  0.72300   \n",
       "1                                42.0  0.75919  0.067928  0.597  0.72675   \n",
       "\n",
       "                                            Number of Games             \\\n",
       "                          50%    75%    max           count       mean   \n",
       "Top Seed is a Champion                                                   \n",
       "0                       0.753  0.768  0.829            30.0  79.216667   \n",
       "1                       0.756  0.805  0.890            42.0  78.666667   \n",
       "\n",
       "                                                                 \n",
       "                             std   min    25%   50%   75%   max  \n",
       "Top Seed is a Champion                                           \n",
       "0                       6.288582  60.0  82.00  82.0  82.0  82.0  \n",
       "1                       6.373216  50.0  79.25  82.0  82.0  82.0  "
      ]
     },
     "execution_count": 14,
     "metadata": {},
     "output_type": "execute_result"
    }
   ],
   "source": [
    "#grouped\n",
    "NBA_data_numeric.groupby(\"Top Seed is a Champion\").describe()"
   ]
  },
  {
   "cell_type": "markdown",
   "metadata": {},
   "source": [
    "Now the win proportion means seem very similar, but the given data is on a small scale between 0 and 1.\n",
    "A One way F-test can answer if the means for top seed is/ is not a champion are different or not. If means are not significantly different, then win proportions are the same or similar regardless of the top seed becoming a champion (teams might have tied records). If means are significantly different, then the top seed won more often to become champion than otherwise (top seed might have dominated the season)"
   ]
  },
  {
   "cell_type": "markdown",
   "metadata": {},
   "source": [
    "## One way F-test"
   ]
  },
  {
   "cell_type": "code",
   "execution_count": 15,
   "metadata": {},
   "outputs": [
    {
     "data": {
      "text/plain": [
       "F_onewayResult(statistic=1.3814729446352012, pvalue=0.24383279660875418)"
      ]
     },
     "execution_count": 15,
     "metadata": {},
     "output_type": "execute_result"
    }
   ],
   "source": [
    "\n",
    "stats.f_oneway(NBA_data_numeric['Win Proportion'][NBA_data_numeric['Top Seed is a Champion'] == 1], \n",
    "               NBA_data_numeric['Win Proportion'][NBA_data_numeric['Top Seed is a Champion'] == 0])\n",
    "\n",
    "# statistic = 1.3814729446352012\n",
    "# p-value = 0.24383279660875418\n",
    "# no evidence being a champion is significant to the proportion of games won in the season "
   ]
  },
  {
   "cell_type": "markdown",
   "metadata": {},
   "source": [
    "If I had access to more data such as how every team did in the season, I would do ANOVA to understand win proportions more such as if they are extreme (last place losing every game, first place winning every game) or more balanced (no team won more than 80% of the time)\n",
    "\n",
    "Then If I knew the top player and their team's performance, I could see how much of an affect having the top player has on the team's performance, which sounds like one-way ANOVA or T-test."
   ]
  },
  {
   "cell_type": "markdown",
   "metadata": {},
   "source": [
    "Now a boxplot to visualize descriptive statistics and the above test"
   ]
  },
  {
   "cell_type": "code",
   "execution_count": 16,
   "metadata": {},
   "outputs": [
    {
     "data": {
      "text/plain": [
       "Text(0.5, 1.0, \"Distribution of Top Seed's Win Proportion, based on Championship Success or not \")"
      ]
     },
     "execution_count": 16,
     "metadata": {},
     "output_type": "execute_result"
    },
    {
     "data": {
      "image/png": "[encoded data removed]",
      "text/plain": [
       "<Figure size 432x288 with 1 Axes>"
      ]
     },
     "metadata": {
      "needs_background": "light"
     },
     "output_type": "display_data"
    }
   ],
   "source": [
    "\n",
    "sns.boxplot(x = NBA_data[\"Top Seed is a Champion\"], y = NBA_data[\"Win Proportion\"], palette = [\"violet\",\"green\"])\n",
    "plt.xlabel(\"Top Seed is not (0) or is (1) a Champion\")\n",
    "plt.title(\"Distribution of Top Seed's Win Proportion, based on Championship Success or not \")"
   ]
  },
  {
   "cell_type": "markdown",
   "metadata": {},
   "source": [
    " Means are almost identical visually, but the spread (standard deviation) of the right is larger than the left\n",
    " clearly. Based on the quartiles, the Top Seed usually does better than 0.72, regardless of their future status\n",
    " as champion. But if the top seed ends up being a champion, they are more likely to have a better record."
   ]
  },
  {
   "cell_type": "code",
   "execution_count": 17,
   "metadata": {},
   "outputs": [
    {
     "data": {
      "text/plain": [
       "Text(0.5, 1.0, 'Density distribution of Top Seed Win Proportions')"
      ]
     },
     "execution_count": 17,
     "metadata": {},
     "output_type": "execute_result"
    },
    {
     "data": {
      "image/png": "[encoded data removed]",
      "text/plain": [
       "<Figure size 486.625x360 with 1 Axes>"
      ]
     },
     "metadata": {
      "needs_background": "light"
     },
     "output_type": "display_data"
    }
   ],
   "source": [
    "\n",
    "sns.displot(data = NBA_data, x= \"Win Proportion\", hue=\"Top Seed is a Champion\", palette = [\"violet\",\"green\"], \n",
    "            stat = \"density\")\n",
    "plt.title('Density distribution of Top Seed Win Proportions')"
   ]
  },
  {
   "cell_type": "markdown",
   "metadata": {},
   "source": [
    "The density distribution is chosen to see much the data overlaps and to see where it does not overlap. Interesting how green is seen on both left and right and violett is seen in the center. This reinforces the difference in standard deviations, which was computed a while back. It also explains the T-test's result - the champion can have 0.85 winning proportion but it can also be as low as 0.62."
   ]
  },
  {
   "cell_type": "code",
   "execution_count": null,
   "metadata": {},
   "outputs": [],
   "source": []
  }
 ],
 "metadata": {
  "kernelspec": {
   "display_name": "Python 3",
   "language": "python",
   "name": "python3"
  },
  "language_info": {
   "codemirror_mode": {
    "name": "ipython",
    "version": 3
   },
   "file_extension": ".py",
   "mimetype": "text/x-python",
   "name": "python",
   "nbconvert_exporter": "python",
   "pygments_lexer": "ipython3",
   "version": "3.8.5"
  }
 },
 "nbformat": 4,
 "nbformat_minor": 4
}
